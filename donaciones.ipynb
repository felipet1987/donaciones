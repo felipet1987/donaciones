{
 "cells": [
  {
   "cell_type": "code",
   "execution_count": 1,
   "metadata": {},
   "outputs": [
    {
     "data": {
      "text/plain": [
       "['animales',\n",
       " 'donante',\n",
       " 'emergencia_medica',\n",
       " 'grupo_familiar',\n",
       " 'punto',\n",
       " 'registro',\n",
       " 'requerimientos',\n",
       " 'urgencia']"
      ]
     },
     "execution_count": 1,
     "metadata": {},
     "output_type": "execute_result"
    }
   ],
   "source": [
    "from database import Database\n",
    "db = Database()\n",
    "db.get_tables()"
   ]
  },
  {
   "cell_type": "code",
   "execution_count": 1,
   "metadata": {},
   "outputs": [
    {
     "data": {
      "text/plain": [
       "{'adultosMasculinos': 2303,\n",
       " 'adultosFemeninos': 4531,\n",
       " 'adultosMayores': 6,\n",
       " 'ninosMasculinos': 6727,\n",
       " 'ninosFemeninos': 8978}"
      ]
     },
     "execution_count": 1,
     "metadata": {},
     "output_type": "execute_result"
    }
   ],
   "source": [
    "from grupo_familiar import GrupoFamiliar\n",
    "\n",
    "grupo_familiar = GrupoFamiliar()\n",
    "\n",
    "grupo_familiar.totales()"
   ]
  },
  {
   "cell_type": "code",
   "execution_count": 3,
   "metadata": {},
   "outputs": [
    {
     "data": {
      "text/plain": [
       "69"
      ]
     },
     "execution_count": 3,
     "metadata": {},
     "output_type": "execute_result"
    }
   ],
   "source": [
    "from levantamiento import Levantamiento\n",
    "\n",
    "levantamiento = Levantamiento()\n",
    "levantamiento.table.count()"
   ]
  },
  {
   "cell_type": "code",
   "execution_count": null,
   "metadata": {},
   "outputs": [],
   "source": []
  }
 ],
 "metadata": {
  "kernelspec": {
   "display_name": "Python 3",
   "language": "python",
   "name": "python3"
  },
  "language_info": {
   "codemirror_mode": {
    "name": "ipython",
    "version": 3
   },
   "file_extension": ".py",
   "mimetype": "text/x-python",
   "name": "python",
   "nbconvert_exporter": "python",
   "pygments_lexer": "ipython3",
   "version": "3.8.6"
  }
 },
 "nbformat": 4,
 "nbformat_minor": 4
}
